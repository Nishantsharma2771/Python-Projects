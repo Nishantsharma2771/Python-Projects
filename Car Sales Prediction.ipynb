{
 "cells": [
  {
   "cell_type": "markdown",
   "id": "90c19469-32af-48db-8041-27100a9b813b",
   "metadata": {},
   "source": [
    "# Importing Libraries"
   ]
  },
  {
   "cell_type": "code",
   "execution_count": 2,
   "id": "fc9f492d-a700-4eda-87fd-ccbe8f5d86c9",
   "metadata": {},
   "outputs": [],
   "source": [
    "import pandas as pd\n",
    "import numpy as np\n",
    "from matplotlib import pyplot as plt"
   ]
  },
  {
   "cell_type": "markdown",
   "id": "34b7d8a8-030c-4f95-8659-47ccd43d4b75",
   "metadata": {},
   "source": [
    "# Understanding Data"
   ]
  },
  {
   "cell_type": "code",
   "execution_count": 4,
   "id": "38900442-7b59-4e19-a0ee-2572ecaa84c9",
   "metadata": {},
   "outputs": [],
   "source": [
    "car_data= pd.read_csv(r'C:\\Users\\Nishant Sharma\\Downloads\\car_purchasing.csv', encoding='unicode_escape')"
   ]
  },
  {
   "cell_type": "code",
   "execution_count": 5,
   "id": "4c4d809b-5e68-4459-83fc-a16429987f01",
   "metadata": {},
   "outputs": [
    {
     "data": {
      "text/html": [
       "<div>\n",
       "<style scoped>\n",
       "    .dataframe tbody tr th:only-of-type {\n",
       "        vertical-align: middle;\n",
       "    }\n",
       "\n",
       "    .dataframe tbody tr th {\n",
       "        vertical-align: top;\n",
       "    }\n",
       "\n",
       "    .dataframe thead th {\n",
       "        text-align: right;\n",
       "    }\n",
       "</style>\n",
       "<table border=\"1\" class=\"dataframe\">\n",
       "  <thead>\n",
       "    <tr style=\"text-align: right;\">\n",
       "      <th></th>\n",
       "      <th>customer name</th>\n",
       "      <th>customer e-mail</th>\n",
       "      <th>country</th>\n",
       "      <th>gender</th>\n",
       "      <th>age</th>\n",
       "      <th>annual Salary</th>\n",
       "      <th>credit card debt</th>\n",
       "      <th>net worth</th>\n",
       "      <th>car purchase amount</th>\n",
       "    </tr>\n",
       "  </thead>\n",
       "  <tbody>\n",
       "    <tr>\n",
       "      <th>0</th>\n",
       "      <td>Martina Avila</td>\n",
       "      <td>cubilia.Curae.Phasellus@quisaccumsanconvallis.edu</td>\n",
       "      <td>Bulgaria</td>\n",
       "      <td>0</td>\n",
       "      <td>41.851720</td>\n",
       "      <td>62812.09301</td>\n",
       "      <td>11609.380910</td>\n",
       "      <td>238961.2505</td>\n",
       "      <td>35321.45877</td>\n",
       "    </tr>\n",
       "    <tr>\n",
       "      <th>1</th>\n",
       "      <td>Harlan Barnes</td>\n",
       "      <td>eu.dolor@diam.co.uk</td>\n",
       "      <td>Belize</td>\n",
       "      <td>0</td>\n",
       "      <td>40.870623</td>\n",
       "      <td>66646.89292</td>\n",
       "      <td>9572.957136</td>\n",
       "      <td>530973.9078</td>\n",
       "      <td>45115.52566</td>\n",
       "    </tr>\n",
       "    <tr>\n",
       "      <th>2</th>\n",
       "      <td>Naomi Rodriquez</td>\n",
       "      <td>vulputate.mauris.sagittis@ametconsectetueradip...</td>\n",
       "      <td>Algeria</td>\n",
       "      <td>1</td>\n",
       "      <td>43.152897</td>\n",
       "      <td>53798.55112</td>\n",
       "      <td>11160.355060</td>\n",
       "      <td>638467.1773</td>\n",
       "      <td>42925.70921</td>\n",
       "    </tr>\n",
       "    <tr>\n",
       "      <th>3</th>\n",
       "      <td>Jade Cunningham</td>\n",
       "      <td>malesuada@dignissim.com</td>\n",
       "      <td>Cook Islands</td>\n",
       "      <td>1</td>\n",
       "      <td>58.271369</td>\n",
       "      <td>79370.03798</td>\n",
       "      <td>14426.164850</td>\n",
       "      <td>548599.0524</td>\n",
       "      <td>67422.36313</td>\n",
       "    </tr>\n",
       "    <tr>\n",
       "      <th>4</th>\n",
       "      <td>Cedric Leach</td>\n",
       "      <td>felis.ullamcorper.viverra@egetmollislectus.net</td>\n",
       "      <td>Brazil</td>\n",
       "      <td>1</td>\n",
       "      <td>57.313749</td>\n",
       "      <td>59729.15130</td>\n",
       "      <td>5358.712177</td>\n",
       "      <td>560304.0671</td>\n",
       "      <td>55915.46248</td>\n",
       "    </tr>\n",
       "  </tbody>\n",
       "</table>\n",
       "</div>"
      ],
      "text/plain": [
       "     customer name                                    customer e-mail  \\\n",
       "0    Martina Avila  cubilia.Curae.Phasellus@quisaccumsanconvallis.edu   \n",
       "1    Harlan Barnes                                eu.dolor@diam.co.uk   \n",
       "2  Naomi Rodriquez  vulputate.mauris.sagittis@ametconsectetueradip...   \n",
       "3  Jade Cunningham                            malesuada@dignissim.com   \n",
       "4     Cedric Leach     felis.ullamcorper.viverra@egetmollislectus.net   \n",
       "\n",
       "        country  gender        age  annual Salary  credit card debt  \\\n",
       "0      Bulgaria       0  41.851720    62812.09301      11609.380910   \n",
       "1        Belize       0  40.870623    66646.89292       9572.957136   \n",
       "2       Algeria       1  43.152897    53798.55112      11160.355060   \n",
       "3  Cook Islands       1  58.271369    79370.03798      14426.164850   \n",
       "4        Brazil       1  57.313749    59729.15130       5358.712177   \n",
       "\n",
       "     net worth  car purchase amount  \n",
       "0  238961.2505          35321.45877  \n",
       "1  530973.9078          45115.52566  \n",
       "2  638467.1773          42925.70921  \n",
       "3  548599.0524          67422.36313  \n",
       "4  560304.0671          55915.46248  "
      ]
     },
     "execution_count": 5,
     "metadata": {},
     "output_type": "execute_result"
    }
   ],
   "source": [
    "car_data.head()"
   ]
  },
  {
   "cell_type": "code",
   "execution_count": 6,
   "id": "75960fc0-0875-4251-b423-7bba4e26f9b2",
   "metadata": {},
   "outputs": [
    {
     "data": {
      "text/plain": [
       "(500, 9)"
      ]
     },
     "execution_count": 6,
     "metadata": {},
     "output_type": "execute_result"
    }
   ],
   "source": [
    "car_data.shape"
   ]
  },
  {
   "cell_type": "code",
   "execution_count": 7,
   "id": "dd3ce0ff-a518-4770-97a6-3def6b6e6128",
   "metadata": {},
   "outputs": [
    {
     "data": {
      "text/plain": [
       "<bound method DataFrame.info of        customer name                                    customer e-mail  \\\n",
       "0      Martina Avila  cubilia.Curae.Phasellus@quisaccumsanconvallis.edu   \n",
       "1      Harlan Barnes                                eu.dolor@diam.co.uk   \n",
       "2    Naomi Rodriquez  vulputate.mauris.sagittis@ametconsectetueradip...   \n",
       "3    Jade Cunningham                            malesuada@dignissim.com   \n",
       "4       Cedric Leach     felis.ullamcorper.viverra@egetmollislectus.net   \n",
       "..               ...                                                ...   \n",
       "495           Walter                                ligula@Cumsociis.ca   \n",
       "496            Vanna                 Cum.sociis.natoque@Sedmolestie.edu   \n",
       "497            Pearl                      penatibus.et@massanonante.com   \n",
       "498             Nell                  Quisque.varius@arcuVivamussit.net   \n",
       "499            Marla                          Camaron.marla@hotmail.com   \n",
       "\n",
       "          country  gender        age  annual Salary  credit card debt  \\\n",
       "0        Bulgaria       0  41.851720    62812.09301      11609.380910   \n",
       "1          Belize       0  40.870623    66646.89292       9572.957136   \n",
       "2         Algeria       1  43.152897    53798.55112      11160.355060   \n",
       "3    Cook Islands       1  58.271369    79370.03798      14426.164850   \n",
       "4          Brazil       1  57.313749    59729.15130       5358.712177   \n",
       "..            ...     ...        ...            ...               ...   \n",
       "495         Nepal       0  41.462515    71942.40291       6995.902524   \n",
       "496      Zimbabwe       1  37.642000    56039.49793      12301.456790   \n",
       "497   Philippines       1  53.943497    68888.77805      10611.606860   \n",
       "498      Botswana       1  59.160509    49811.99062      14013.034510   \n",
       "499        marlal       1  46.731152    61370.67766       9391.341628   \n",
       "\n",
       "       net worth  car purchase amount  \n",
       "0    238961.2505          35321.45877  \n",
       "1    530973.9078          45115.52566  \n",
       "2    638467.1773          42925.70921  \n",
       "3    548599.0524          67422.36313  \n",
       "4    560304.0671          55915.46248  \n",
       "..           ...                  ...  \n",
       "495  541670.1016          48901.44342  \n",
       "496  360419.0988          31491.41457  \n",
       "497  764531.3203          64147.28888  \n",
       "498  337826.6382          45442.15353  \n",
       "499  462946.4924          45107.22566  \n",
       "\n",
       "[500 rows x 9 columns]>"
      ]
     },
     "execution_count": 7,
     "metadata": {},
     "output_type": "execute_result"
    }
   ],
   "source": [
    "car_data.info"
   ]
  },
  {
   "cell_type": "markdown",
   "id": "a5875520-3f6c-4054-b0e8-2a55c53cbefa",
   "metadata": {},
   "source": [
    "## Diagnosing Null Values In the Data"
   ]
  },
  {
   "cell_type": "code",
   "execution_count": 8,
   "id": "4c3c280f-8660-4f20-ace3-59e2966e7ea1",
   "metadata": {},
   "outputs": [
    {
     "data": {
      "text/plain": [
       "customer name          0\n",
       "customer e-mail        0\n",
       "country                0\n",
       "gender                 0\n",
       "age                    0\n",
       "annual Salary          0\n",
       "credit card debt       0\n",
       "net worth              0\n",
       "car purchase amount    0\n",
       "dtype: int64"
      ]
     },
     "execution_count": 8,
     "metadata": {},
     "output_type": "execute_result"
    }
   ],
   "source": [
    "pd.isnull(car_data).sum()"
   ]
  },
  {
   "cell_type": "code",
   "execution_count": 9,
   "id": "bfae75d4-0b08-4798-a229-6364b5bf5478",
   "metadata": {},
   "outputs": [
    {
     "data": {
      "text/plain": [
       "Index(['customer name', 'customer e-mail', 'country', 'gender', 'age',\n",
       "       'annual Salary', 'credit card debt', 'net worth',\n",
       "       'car purchase amount'],\n",
       "      dtype='object')"
      ]
     },
     "execution_count": 9,
     "metadata": {},
     "output_type": "execute_result"
    }
   ],
   "source": [
    "car_data.columns"
   ]
  },
  {
   "cell_type": "markdown",
   "id": "84f5344a-3ce8-44fb-9825-a455160a5ce5",
   "metadata": {},
   "source": [
    "# Exploratory Data Analysis (EDA)"
   ]
  },
  {
   "cell_type": "markdown",
   "id": "5fd59bc7-9a4a-4ac7-9111-a58a0102da6f",
   "metadata": {},
   "source": [
    "## Genders we have "
   ]
  },
  {
   "cell_type": "code",
   "execution_count": 10,
   "id": "5dc28f6a-2650-4c36-b08a-10239b9c46eb",
   "metadata": {},
   "outputs": [
    {
     "data": {
      "text/plain": [
       "gender\n",
       "1    253\n",
       "0    247\n",
       "Name: count, dtype: int64"
      ]
     },
     "execution_count": 10,
     "metadata": {},
     "output_type": "execute_result"
    }
   ],
   "source": [
    "car_data[\"gender\"].value_counts()"
   ]
  },
  {
   "cell_type": "markdown",
   "id": "9d81573b-15d9-447f-914b-86cf7a257761",
   "metadata": {},
   "source": [
    "## Replacing 0 with \"Female\" and 1 with \"Male\""
   ]
  },
  {
   "cell_type": "code",
   "execution_count": 11,
   "id": "af20d6d3-68e5-41b9-88ae-8e11e2d26c51",
   "metadata": {},
   "outputs": [],
   "source": [
    "car_data['gender'].replace(0, 'Female',inplace=True)\n",
    "car_data['gender'].replace(1, 'Male',inplace=True)"
   ]
  },
  {
   "cell_type": "code",
   "execution_count": 12,
   "id": "6a78d601-7b6c-4d37-83ef-7328e0f7e9cd",
   "metadata": {},
   "outputs": [
    {
     "data": {
      "text/plain": [
       "gender\n",
       "Male      253\n",
       "Female    247\n",
       "Name: count, dtype: int64"
      ]
     },
     "execution_count": 12,
     "metadata": {},
     "output_type": "execute_result"
    }
   ],
   "source": [
    "car_data[\"gender\"].value_counts()"
   ]
  },
  {
   "cell_type": "markdown",
   "id": "86beab70-f1d9-43ba-9dec-f4bdab8b4d6a",
   "metadata": {},
   "source": [
    "## Which Gender more Interested in Car Sales"
   ]
  },
  {
   "cell_type": "code",
   "execution_count": 13,
   "id": "9c2b7b96-89c5-4279-8a0b-a1e937d17289",
   "metadata": {},
   "outputs": [
    {
     "data": {
      "image/png": "[encoded data removed]",
      "text/plain": [
       "<Figure size 300x500 with 1 Axes>"
      ]
     },
     "metadata": {},
     "output_type": "display_data"
    }
   ],
   "source": [
    "plt.figure(figsize= (3,5))\n",
    "plt.bar(list(car_data[\"gender\"].value_counts().keys()), list(car_data[\"gender\"].value_counts()))\n",
    "plt.show()"
   ]
  },
  {
   "cell_type": "markdown",
   "id": "d509fee2-5148-450b-bc79-02ced5ba9f7c",
   "metadata": {},
   "source": [
    "## Which Age Group People shows most Interest in Car Sales"
   ]
  },
  {
   "cell_type": "code",
   "execution_count": 11,
   "id": "60a084c9-8abc-43c6-b8e9-76de05d24134",
   "metadata": {},
   "outputs": [
    {
     "data": {
      "text/plain": [
       "age\n",
       "41.851720    1\n",
       "44.232556    1\n",
       "40.752195    1\n",
       "38.105948    1\n",
       "39.120318    1\n",
       "            ..\n",
       "47.659486    1\n",
       "57.284824    1\n",
       "55.989615    1\n",
       "34.164092    1\n",
       "46.731152    1\n",
       "Name: count, Length: 500, dtype: int64"
      ]
     },
     "execution_count": 11,
     "metadata": {},
     "output_type": "execute_result"
    }
   ],
   "source": [
    "car_data[\"age\"].value_counts()"
   ]
  },
  {
   "cell_type": "code",
   "execution_count": 12,
   "id": "de20d43c-74f1-44fa-94db-9aecf8034820",
   "metadata": {},
   "outputs": [
    {
     "data": {
      "image/png": "[encoded data removed]",
      "text/plain": [
       "<Figure size 700x500 with 1 Axes>"
      ]
     },
     "metadata": {},
     "output_type": "display_data"
    }
   ],
   "source": [
    "plt.figure(figsize= (7,5))\n",
    "plt.hist(car_data[\"age\"])\n",
    "plt.title(\"Distribution of Age\")\n",
    "plt.xlabel(\"age\")\n",
    "plt.show()"
   ]
  },
  {
   "cell_type": "markdown",
   "id": "69a00a83-2af1-4393-8324-622bcb799af6",
   "metadata": {},
   "source": [
    "## Salary Wise Car Sales Prediction"
   ]
  },
  {
   "cell_type": "code",
   "execution_count": 30,
   "id": "e426d5b0-1103-4388-b23d-a35269d7c7e9",
   "metadata": {},
   "outputs": [
    {
     "data": {
      "text/plain": [
       "annual Salary\n",
       "62812.09301    1\n",
       "45504.74866    1\n",
       "92471.17612    1\n",
       "49661.96712    1\n",
       "41587.39238    1\n",
       "              ..\n",
       "67247.07698    1\n",
       "72637.84482    1\n",
       "39488.45582    1\n",
       "65919.59731    1\n",
       "61370.67766    1\n",
       "Name: count, Length: 500, dtype: int64"
      ]
     },
     "execution_count": 30,
     "metadata": {},
     "output_type": "execute_result"
    }
   ],
   "source": [
    "car_data[\"annual Salary\"].value_counts()"
   ]
  },
  {
   "cell_type": "code",
   "execution_count": 17,
   "id": "875b678c-3d34-47f3-9888-e45bc6bb1c67",
   "metadata": {},
   "outputs": [
    {
     "data": {
      "image/png": "[encoded data removed]",
      "text/plain": [
       "<Figure size 700x500 with 1 Axes>"
      ]
     },
     "metadata": {},
     "output_type": "display_data"
    }
   ],
   "source": [
    "plt.figure(figsize= (7,5))\n",
    "plt.hist(car_data[\"annual Salary\"])\n",
    "plt.title(\"Annual Salary\")\n",
    "plt.xlabel(\"Annual Salary\")\n",
    "plt.show()"
   ]
  },
  {
   "cell_type": "markdown",
   "id": "0b90fb71-e9f6-4e48-8603-9e6ece8fa179",
   "metadata": {},
   "source": [
    "## How much Credit Card Debt do People have"
   ]
  },
  {
   "cell_type": "code",
   "execution_count": 33,
   "id": "4d76dcbd-504a-4161-a4f1-558126c77ed3",
   "metadata": {},
   "outputs": [
    {
     "data": {
      "text/plain": [
       "credit card debt\n",
       "11609.380910    1\n",
       "9245.466786     1\n",
       "5404.397644     1\n",
       "4679.441732     1\n",
       "5397.031602     1\n",
       "               ..\n",
       "9851.689538     1\n",
       "14938.506130    1\n",
       "10992.333830    1\n",
       "7594.363993     1\n",
       "9391.341628     1\n",
       "Name: count, Length: 500, dtype: int64"
      ]
     },
     "execution_count": 33,
     "metadata": {},
     "output_type": "execute_result"
    }
   ],
   "source": [
    "car_data[\"credit card debt\"].value_counts()"
   ]
  },
  {
   "cell_type": "code",
   "execution_count": 34,
   "id": "1a5343d0-f336-47f1-9555-0295bbc036bf",
   "metadata": {},
   "outputs": [
    {
     "data": {
      "image/png": "[encoded data removed]",
      "text/plain": [
       "<Figure size 700x500 with 1 Axes>"
      ]
     },
     "metadata": {},
     "output_type": "display_data"
    }
   ],
   "source": [
    "plt.figure(figsize= (7,5))\n",
    "plt.hist(car_data[\"credit card debt\"])\n",
    "plt.title(\"Credit Card Debt\")\n",
    "plt.xlabel(\"Credit Card Debt\")\n",
    "plt.show()"
   ]
  },
  {
   "cell_type": "markdown",
   "id": "5c1ba794-501e-4457-89fe-611a0e91f29e",
   "metadata": {},
   "source": [
    "## Analysing People Net Worth"
   ]
  },
  {
   "cell_type": "code",
   "execution_count": 35,
   "id": "e5d15e00-584b-4e70-ad98-79ef73499708",
   "metadata": {},
   "outputs": [
    {
     "data": {
      "text/plain": [
       "net worth\n",
       "238961.2505    1\n",
       "374777.6929    1\n",
       "515717.7476    1\n",
       "375654.1472    1\n",
       "322891.7787    1\n",
       "              ..\n",
       "368344.0637    1\n",
       "352507.9012    1\n",
       "363561.1972    1\n",
       "543789.7212    1\n",
       "462946.4924    1\n",
       "Name: count, Length: 500, dtype: int64"
      ]
     },
     "execution_count": 35,
     "metadata": {},
     "output_type": "execute_result"
    }
   ],
   "source": [
    "car_data[\"net worth\"].value_counts()"
   ]
  },
  {
   "cell_type": "code",
   "execution_count": 36,
   "id": "403f1ef8-74e6-4ff8-832e-dd551d9e17f7",
   "metadata": {},
   "outputs": [
    {
     "data": {
      "image/png": "[encoded data removed]",
      "text/plain": [
       "<Figure size 700x500 with 1 Axes>"
      ]
     },
     "metadata": {},
     "output_type": "display_data"
    }
   ],
   "source": [
    "plt.figure(figsize= (7,5))\n",
    "plt.hist(car_data[\"net worth\"])\n",
    "plt.title(\"NET WORTH\")\n",
    "plt.xlabel(\"Net Worth\")\n",
    "plt.show()"
   ]
  },
  {
   "cell_type": "code",
   "execution_count": 37,
   "id": "923231d8-f01d-4a2d-aca2-39ef0fa92b43",
   "metadata": {},
   "outputs": [
    {
     "data": {
      "text/plain": [
       "Index(['customer name', 'customer e-mail', 'country', 'gender', 'age',\n",
       "       'annual Salary', 'credit card debt', 'net worth',\n",
       "       'car purchase amount'],\n",
       "      dtype='object')"
      ]
     },
     "execution_count": 37,
     "metadata": {},
     "output_type": "execute_result"
    }
   ],
   "source": [
    "car_data.columns"
   ]
  },
  {
   "cell_type": "markdown",
   "id": "dc1f9199-a2c7-41af-9f07-720af6f82076",
   "metadata": {},
   "source": [
    "## How much do People Have Car Purchase Amount"
   ]
  },
  {
   "cell_type": "code",
   "execution_count": 38,
   "id": "f69a4029-beff-4ef2-b981-0c91ff77ae43",
   "metadata": {},
   "outputs": [
    {
     "data": {
      "text/plain": [
       "car purchase amount\n",
       "35321.45877    1\n",
       "31526.04931    1\n",
       "59096.26978    1\n",
       "28733.68779    1\n",
       "23517.91983    1\n",
       "              ..\n",
       "46453.34819    1\n",
       "57125.41541    1\n",
       "37714.31659    1\n",
       "39433.40631    1\n",
       "45107.22566    1\n",
       "Name: count, Length: 500, dtype: int64"
      ]
     },
     "execution_count": 38,
     "metadata": {},
     "output_type": "execute_result"
    }
   ],
   "source": [
    "car_data[\"car purchase amount\"].value_counts()\n"
   ]
  },
  {
   "cell_type": "code",
   "execution_count": 39,
   "id": "1999f9af-e2c3-4fd2-b27d-cafa7528e797",
   "metadata": {},
   "outputs": [
    {
     "data": {
      "image/png": "[encoded data removed]",
      "text/plain": [
       "<Figure size 700x500 with 1 Axes>"
      ]
     },
     "metadata": {},
     "output_type": "display_data"
    }
   ],
   "source": [
    "plt.figure(figsize= (7,5))\n",
    "plt.hist(car_data[\"car purchase amount\"])\n",
    "plt.title(\"Car Purchase Amount\")\n",
    "plt.xlabel(\"Car Purchase Amount\")\n",
    "plt.show()"
   ]
  },
  {
   "cell_type": "markdown",
   "id": "29878884-01ef-440f-ae2a-476364374150",
   "metadata": {},
   "source": [
    "# CONCLUSION"
   ]
  },
  {
   "cell_type": "markdown",
   "id": "d0d634ea-8a23-400b-abb5-8130459ac36d",
   "metadata": {},
   "source": [
    "#### Males of 40 - 50 age groups,\n",
    "#### they have 60000 - 70000 annual salary and 7500 - 12500 credit card debt,\n",
    "#### net worth of 0.3Mn - 0.6Mn, they can purchase car of 35000 - 50000."
   ]
  },
  {
   "cell_type": "markdown",
   "id": "9069fbfb-7408-452f-baa9-6732bd6c9816",
   "metadata": {},
   "source": [
    "## Note \n",
    "\n",
    "#### All values are in Dollar ($)"
   ]
  },
  {
   "cell_type": "markdown",
   "id": "63ea4aa8-84d3-4689-820a-54c592f1f0e3",
   "metadata": {},
   "source": [
    "## Thank You"
   ]
  }
 ],
 "metadata": {
  "kernelspec": {
   "display_name": "Python 3 (ipykernel)",
   "language": "python",
   "name": "python3"
  },
  "language_info": {
   "codemirror_mode": {
    "name": "ipython",
    "version": 3
   },
   "file_extension": ".py",
   "mimetype": "text/x-python",
   "name": "python",
   "nbconvert_exporter": "python",
   "pygments_lexer": "ipython3",
   "version": "3.12.0"
  }
 },
 "nbformat": 4,
 "nbformat_minor": 5
}
